{
 "cells": [
  {
   "cell_type": "markdown",
   "metadata": {},
   "source": [
    "# Identification of SEM keywords from technical texts\n",
    "## An exploration of the Monkey Learn API"
   ]
  },
  {
   "cell_type": "markdown",
   "metadata": {},
   "source": [
    "### Load libraries"
   ]
  },
  {
   "cell_type": "code",
   "execution_count": null,
   "metadata": {},
   "outputs": [],
   "source": [
    "from monkeylearn import MonkeyLearn\n",
    "import json"
   ]
  },
  {
   "cell_type": "markdown",
   "metadata": {},
   "source": [
    "### Read API key\n",
    "Load a text file that contains the Monkey Learn api key."
   ]
  },
  {
   "cell_type": "code",
   "execution_count": 34,
   "metadata": {},
   "outputs": [],
   "source": [
    "with open(\"./api_key.txt\",'r') as infile:\n",
    "    api_key = infile.read()\n",
    "monkeylearn = MonkeyLearn(api_key)"
   ]
  },
  {
   "cell_type": "markdown",
   "metadata": {},
   "source": [
    "### Read the text input"
   ]
  },
  {
   "cell_type": "code",
   "execution_count": 16,
   "metadata": {},
   "outputs": [],
   "source": [
    "infile_path = \"./text_input.txt\"\n",
    "with open(infile_path,'r') as infile:\n",
    "    text_data = infile.read()\n",
    "    text_data = text_data.replace(\"\\n\", \" \")"
   ]
  },
  {
   "cell_type": "markdown",
   "metadata": {},
   "source": [
    "The Monkey Learn API expexts text input as a list."
   ]
  },
  {
   "cell_type": "code",
   "execution_count": 18,
   "metadata": {},
   "outputs": [],
   "source": [
    "data = [text_data]"
   ]
  },
  {
   "cell_type": "markdown",
   "metadata": {},
   "source": [
    "### Run the model"
   ]
  },
  {
   "cell_type": "code",
   "execution_count": 37,
   "metadata": {},
   "outputs": [],
   "source": [
    "model_id = 'ex_YCya9nrn'\n",
    "result = monkeylearn.extractors.extract(model_id, data, extra_args={'max_keywords':100, 'lowercase':1})"
   ]
  },
  {
   "cell_type": "markdown",
   "metadata": {},
   "source": [
    "The API returns results in json format. "
   ]
  },
  {
   "cell_type": "code",
   "execution_count": 39,
   "metadata": {},
   "outputs": [],
   "source": [
    "# Create a list of tuples containing the keyword, its count, and its relevance\n",
    "keywords = []\n",
    "for keyword in result.body[0]['extractions']:\n",
    "    keywords.append((keyword['parsed_value'], keyword['count'], keyword['relevance']))"
   ]
  },
  {
   "cell_type": "code",
   "execution_count": 40,
   "metadata": {},
   "outputs": [
    {
     "data": {
      "text/plain": [
       "[('thin film pv', 4, '0.992'),\n",
       " ('atomic layer deposition', 4, '0.992'),\n",
       " ('solar cell', 10, '0.826'),\n",
       " ('thermal evaporation', 5, '0.661'),\n",
       " ('power conversion efficiency', 2, '0.496'),\n",
       " ('fabrication procedures', 3, '0.496'),\n",
       " ('sn solar cell', 5, '0.496'),\n",
       " ('toxic solar cell', 2, '0.496'),\n",
       " ('sn', 23, '0.492'),\n",
       " ('high efficiency', 2, '0.331'),\n",
       " ('substrate selection', 2, '0.331'),\n",
       " ('surface passivation', 2, '0.331'),\n",
       " ('ald', 4, '0.316'),\n",
       " ('low manufacturing cost', 1, '0.248'),\n",
       " ('different deposition techniques', 1, '0.248'),\n",
       " ('strong light absorption', 1, '0.248'),\n",
       " ('simulated solar light', 1, '0.248'),\n",
       " ('commercialization of sn', 1, '0.248'),\n",
       " ('distribution of results', 1, '0.248'),\n",
       " ('efficiency sn solar', 1, '0.248'),\n",
       " ('large sample set', 1, '0.248'),\n",
       " ('sn deposition methods', 1, '0.248'),\n",
       " ('buffer layer selection', 1, '0.248'),\n",
       " ('significant research activities', 1, '0.248'),\n",
       " ('sn phase control', 1, '0.248'),\n",
       " ('slow growth methods', 1, '0.248'),\n",
       " ('variable light bias', 1, '0.248'),\n",
       " ('typical processing run', 1, '0.248'),\n",
       " ('thin film photovoltaics', 1, '0.248'),\n",
       " ('individual loss mechanism', 1, '0.248'),\n",
       " ('congruent thermal evaporation', 1, '0.248'),\n",
       " ('certified record efficiency', 1, '0.248'),\n",
       " ('quantum efficiency measurement', 1, '0.248'),\n",
       " ('device fabrication step', 1, '0.248'),\n",
       " ('type partners material', 1, '0.248'),\n",
       " ('record solar cell', 1, '0.248'),\n",
       " ('layer deposition tin', 1, '0.248'),\n",
       " ('different sn deposition', 1, '0.248'),\n",
       " ('certified record device', 1, '0.248'),\n",
       " ('commercial thin film', 1, '0.248'),\n",
       " ('highest efficiency device', 1, '0.248'),\n",
       " ('intrinsic practical advantage', 1, '0.248'),\n",
       " ('successful thin film', 1, '0.248'),\n",
       " ('deviation of efficiency', 1, '0.248'),\n",
       " ('large data set', 1, '0.248'),\n",
       " ('candidate absorber material', 1, '0.248'),\n",
       " ('easy phase control', 1, '0.248'),\n",
       " ('manufacture of cdte', 1, '0.248'),\n",
       " ('full data set', 1, '0.248'),\n",
       " ('deposition tin sulfide', 1, '0.248'),\n",
       " ('film pv material', 1, '0.248'),\n",
       " ('mineral name herzenbergite', 1, '0.248'),\n",
       " ('new certified record', 1, '0.248'),\n",
       " ('high throughput measurement', 1, '0.248'),\n",
       " ('deposition', 10, '0.165'),\n",
       " ('long time', 1, '0.165'),\n",
       " ('visible light', 1, '0.165'),\n",
       " ('single substrate', 1, '0.165'),\n",
       " ('cell efficiency', 1, '0.165'),\n",
       " ('standard deviation', 1, '0.165'),\n",
       " ('space sublimation', 1, '0.165'),\n",
       " ('primary barriers', 1, '0.165'),\n",
       " ('sn pv', 1, '0.165'),\n",
       " ('reported record', 1, '0.165'),\n",
       " ('measurement protocol', 1, '0.165'),\n",
       " ('type conductivity', 1, '0.165'),\n",
       " ('challenging prospect', 1, '0.165'),\n",
       " ('record sn', 2, '0.165'),\n",
       " ('rapid growth', 1, '0.165'),\n",
       " ('transparent conductor', 1, '0.165'),\n",
       " ('high quality', 1, '0.165'),\n",
       " ('based technology', 1, '0.165'),\n",
       " ('record results', 1, '0.165'),\n",
       " ('candidate material', 1, '0.165'),\n",
       " ('mo sputtering', 1, '0.165'),\n",
       " ('fabrication process', 1, '0.165'),\n",
       " ('record efficiency', 2, '0.165'),\n",
       " ('insoluble semiconducting', 1, '0.165'),\n",
       " ('test results', 1, '0.165'),\n",
       " ('rear contact', 1, '0.165'),\n",
       " ('deposition conditions', 1, '0.165'),\n",
       " ('device layout', 1, '0.165'),\n",
       " ('practical aspects', 1, '0.165'),\n",
       " ('carrier concentration', 1, '0.165'),\n",
       " ('minimal time', 1, '0.165'),\n",
       " ('absorber material', 2, '0.165'),\n",
       " ('indirect bandgap', 1, '0.165'),\n",
       " ('metallization step', 1, '0.165'),\n",
       " ('automated manner', 1, '0.165'),\n",
       " ('voltage curve', 1, '0.165'),\n",
       " ('speed cousin', 1, '0.165'),\n",
       " ('step procedures', 1, '0.165'),\n",
       " ('cost advantage', 1, '0.165'),\n",
       " ('pv market', 1, '0.165'),\n",
       " ('statistical distribution', 1, '0.165'),\n",
       " ('active area', 1, '0.165'),\n",
       " ('individual device', 1, '0.165'),\n",
       " ('laboratory scale', 1, '0.165'),\n",
       " ('commercial development', 1, '0.165'),\n",
       " ('efficiency barriers', 1, '0.165')]"
      ]
     },
     "execution_count": 40,
     "metadata": {},
     "output_type": "execute_result"
    }
   ],
   "source": [
    "keywords"
   ]
  }
 ],
 "metadata": {
  "kernelspec": {
   "display_name": "Python 3",
   "language": "python",
   "name": "python3"
  },
  "language_info": {
   "codemirror_mode": {
    "name": "ipython",
    "version": 3
   },
   "file_extension": ".py",
   "mimetype": "text/x-python",
   "name": "python",
   "nbconvert_exporter": "python",
   "pygments_lexer": "ipython3",
   "version": "3.7.3"
  }
 },
 "nbformat": 4,
 "nbformat_minor": 2
}
